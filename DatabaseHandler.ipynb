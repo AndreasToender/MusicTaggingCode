{
 "cells": [
  {
   "cell_type": "code",
   "execution_count": 18,
   "metadata": {},
   "outputs": [],
   "source": [
    "#https://my.bluehost.com/hosting/help/89\n",
    "#https://stackoverflow.com/questions/34910432/how-to-access-mysql-database-on-a-bluehost-server-remotely-through-python"
   ]
  },
  {
   "cell_type": "code",
   "execution_count": 1,
   "metadata": {},
   "outputs": [],
   "source": [
    "import mysql.connector"
   ]
  },
  {
   "cell_type": "code",
   "execution_count": 14,
   "metadata": {},
   "outputs": [],
   "source": [
    "dbhost = \"162.241.252.230\"\n",
    "dbuser = \"musictag_andreas\"\n",
    "dbpass = \"toender\"\n",
    "db = \"musictag_survey\""
   ]
  },
  {
   "cell_type": "code",
   "execution_count": 15,
   "metadata": {},
   "outputs": [],
   "source": [
    "mydb = mysql.connector.connect(host=dbhost, user=dbuser, password=dbpass, database=db)"
   ]
  },
  {
   "cell_type": "code",
   "execution_count": 16,
   "metadata": {},
   "outputs": [],
   "source": [
    "mycursor = mydb.cursor()"
   ]
  },
  {
   "cell_type": "code",
   "execution_count": 17,
   "metadata": {},
   "outputs": [],
   "source": [
    "mycursor.execute(\"SELECT * FROM musictags\")"
   ]
  },
  {
   "cell_type": "code",
   "execution_count": 18,
   "metadata": {},
   "outputs": [
    {
     "name": "stdout",
     "output_type": "stream",
     "text": [
      "(1, '3ace5f2f1d60a6269c10dca6393d0c91', 8923, 'Denmark', '02guttman05-120', 5, 4)\n",
      "(2, '6c825523a5be5ad79756c30e84b87648', 213124, 'Netherlands', '02hireche02-360', 4, 2)\n",
      "(3, 'efc26f410ab8ef5927ab0bcb5ec36602', 802, 'United Kingdom', '02soloman02-165', 4, 4)\n",
      "(4, 'efc26f410ab8ef5927ab0bcb5ec36602', 802, 'United Kingdom', '02soloman02-162', 5, 2)\n",
      "(5, 'efc26f410ab8ef5927ab0bcb5ec36602', 802, 'United Kingdom', '02huang03-900.m', 1, 4)\n",
      "(6, 'efc26f410ab8ef5927ab0bcb5ec36602', 802, 'United Kingdom', '02vital01-630.m', 2, 4)\n",
      "(7, '908d641fa11c0963ca2abb05d11f92b0', 8923, 'Denmark', '02vital01-330.m', 2, 2)\n",
      "(8, 'bff5bb53c74108ad511820ca40492117', 8923, 'Denmark', '02dvorkine04-90', 2, 2)\n",
      "(9, 'f5eba34942f028d119d7244be9d74119', 8923, 'Denmark', '14DupreeF01-570', 4, 4)\n",
      "(10, 'b4df3fc0236ef28757b994c9277940aa', 8062, 'Denmark', '13Richardson11-', 4, 2)\n",
      "(11, 'b4df3fc0236ef28757b994c9277940aa', 8062, 'Denmark', '04LEE_K07-1380.', 3, 4)\n",
      "(12, 'b4df3fc0236ef28757b994c9277940aa', 8062, 'Denmark', '14PrjevalskayaM', 5, 2)\n",
      "(13, 'b4df3fc0236ef28757b994c9277940aa', 8062, 'Denmark', '06Zusko01-210.m', 5, 3)\n",
      "(14, '26b19f5bb31b90498d66c27e48986ba7', 19238, 'Denmark', '06Zusko09-1140.', 5, 2)\n",
      "(15, '26b19f5bb31b90498d66c27e48986ba7', 19238, 'Denmark', '04CHOE02-240.mp', 3, 2)\n",
      "(16, '26b19f5bb31b90498d66c27e48986ba7', 19238, 'Denmark', '18KimSJ05-360.m', 5, 5)\n",
      "(17, '26b19f5bb31b90498d66c27e48986ba7', 19238, 'Denmark', '14KharselM12-16', 3, 1)\n",
      "(18, '26b19f5bb31b90498d66c27e48986ba7', 19238, 'Denmark', '06Schneider01-3', 3, 4)\n",
      "(19, 'def1ffb46ce28dc67588060d01943cfe', 8749, 'Denmark', '06ChenC05-600.m', 2, 3)\n",
      "(20, 'def1ffb46ce28dc67588060d01943cfe', 8749, 'Denmark', '06Hou02-210.mp3', 5, 4)\n",
      "(21, 'def1ffb46ce28dc67588060d01943cfe', 8749, 'Denmark', '08Tetzloff06-24', 5, 4)\n",
      "(22, 'def1ffb46ce28dc67588060d01943cfe', 8749, 'Denmark', '17LeeSH05-90.mp', 4, 5)\n",
      "(23, 'def1ffb46ce28dc67588060d01943cfe', 8749, 'Denmark', '09CaiC09-360.mp', 2, 3)\n",
      "(24, 'def1ffb46ce28dc67588060d01943cfe', 8749, 'Denmark', '08Qin02-420.mp3', 4, 3)\n",
      "(25, 'a4fb6191b6025ae9ad515570c6129e61', 8351, 'Spain', '11Colafelice09-', 4, 4)\n",
      "(26, 'a4fb6191b6025ae9ad515570c6129e61', 8351, 'Spain', '06Huangci02-210', 5, 5)\n",
      "(27, 'a4fb6191b6025ae9ad515570c6129e61', 8351, 'Spain', '09Gokcin03-60.m', 5, 5)\n",
      "(28, 'a4fb6191b6025ae9ad515570c6129e61', 8351, 'Spain', '04HUAN_B01-30.m', 5, 5)\n",
      "(29, 'a4fb6191b6025ae9ad515570c6129e61', 8351, 'Spain', '02yamaguchi02-1', 5, 3)\n",
      "(30, '8e7a2819e9b8904ef59e3d0749b09dbc', 8923, 'Denmark', '08Kociuban09-18', 4, 2)\n",
      "(31, 'f5e8cf542794b1132c20e622fb442d7b', 8923, 'Denmark', '06Shamray06-570', 2, 4)\n",
      "(32, '47eb3fe5976c8e3a8c5fbf1f7c50632c', 8923, 'Denmark', '14DupreeF14-135', 2, 1)\n",
      "(33, '0cb68906877106b4749494a12739dbc8', 8923, 'Denmark', '04RAN06-90.mp3', 4, 4)\n",
      "(34, 'fb70642e0a3ab0cefed5fe8f33ddb307', 8923, 'Denmark', '06Avdeeva05-150', 5, 5)\n",
      "(35, '05965fb50cc0316d4592cbdc9adfcad7', 8071, 'Denmark', '18KotysV19-270.', 4, 4)\n",
      "(36, '05965fb50cc0316d4592cbdc9adfcad7', 8071, 'Denmark', '14GarritsonL11-', 5, 4)\n",
      "(37, '05965fb50cc0316d4592cbdc9adfcad7', 8071, 'Denmark', '09Zuber08-780.m', 2, 3)\n",
      "(38, '05965fb50cc0316d4592cbdc9adfcad7', 8071, 'Denmark', '11Lan03-90.mp3', 4, 3)\n",
      "(39, '05965fb50cc0316d4592cbdc9adfcad7', 8071, 'Denmark', '18KotysV14-300.', 4, 1)\n",
      "(40, '05965fb50cc0316d4592cbdc9adfcad7', 8071, 'Denmark', '06Zusko05-360.m', 4, 5)\n",
      "(41, '05965fb50cc0316d4592cbdc9adfcad7', 8071, 'Denmark', '14MustakimovT07', 5, 4)\n",
      "(42, '05965fb50cc0316d4592cbdc9adfcad7', 8071, 'Denmark', '04ISHIDA03-360.', 5, 2)\n",
      "(43, '05965fb50cc0316d4592cbdc9adfcad7', 8071, 'Denmark', '14LeungM10-330.', 5, 5)\n",
      "(44, '05965fb50cc0316d4592cbdc9adfcad7', 8071, 'Denmark', '11Kim05-180.mp3', 2, 4)\n",
      "(45, '05965fb50cc0316d4592cbdc9adfcad7', 8071, 'Denmark', '09Tysman09-60.m', 1, 3)\n",
      "(46, '05965fb50cc0316d4592cbdc9adfcad7', 8071, 'Denmark', '18KaszoS13-270.', 4, 2)\n",
      "(47, '05965fb50cc0316d4592cbdc9adfcad7', 8071, 'Denmark', '18BianF03-990.m', 4, 4)\n",
      "(48, '05965fb50cc0316d4592cbdc9adfcad7', 8071, 'Denmark', '17ZhangW08-270.', 5, 2)\n",
      "(49, '05965fb50cc0316d4592cbdc9adfcad7', 8071, 'Denmark', '02hannumizzard0', 5, 5)\n",
      "(50, '05965fb50cc0316d4592cbdc9adfcad7', 8071, 'Denmark', '14PrjevalskayaM', 3, 4)\n",
      "(51, '05965fb50cc0316d4592cbdc9adfcad7', 8071, 'Denmark', '04FALIKS03-180.', 5, 3)\n",
      "(52, '05965fb50cc0316d4592cbdc9adfcad7', 8071, 'Denmark', '15MunA02-30.mp3', 4, 5)\n",
      "(53, '05965fb50cc0316d4592cbdc9adfcad7', 8071, 'Denmark', '02cho05-390.mp3', 5, 3)\n",
      "(54, '05965fb50cc0316d4592cbdc9adfcad7', 8071, 'Denmark', '04HUAN_J07-330.', 3, 2)\n",
      "(55, '05965fb50cc0316d4592cbdc9adfcad7', 8071, 'Denmark', '04USHIKI06-1260', 4, 1)\n",
      "(56, '05965fb50cc0316d4592cbdc9adfcad7', 8071, 'Denmark', '06Tysman01-510.', 3, 3)\n",
      "(57, '05965fb50cc0316d4592cbdc9adfcad7', 8071, 'Denmark', '09Lee10-1560.mp', 4, 4)\n",
      "(58, '05965fb50cc0316d4592cbdc9adfcad7', 8071, 'Denmark', '06Dulu08-990.mp', 2, 3)\n",
      "(59, '05965fb50cc0316d4592cbdc9adfcad7', 8071, 'Denmark', '02lim05-690.mp3', 5, 4)\n",
      "(60, '05965fb50cc0316d4592cbdc9adfcad7', 8071, 'Denmark', '13Wong02-210.mp', 4, 5)\n",
      "(61, '05965fb50cc0316d4592cbdc9adfcad7', 8071, 'Denmark', '17BuiJL01-0.mp3', 1, 4)\n",
      "(62, '05965fb50cc0316d4592cbdc9adfcad7', 8071, 'Denmark', '18TanakaM10-660', 4, 1)\n",
      "(63, '05965fb50cc0316d4592cbdc9adfcad7', 8071, 'Denmark', '11Ozaki02-0.mp3', 5, 5)\n",
      "(64, '05965fb50cc0316d4592cbdc9adfcad7', 8071, 'Denmark', '13Richardson11-', 4, 4)\n",
      "(65, 'f84d8e9543d8dfbf23afe0af203025f0', 8750, 'Denmark', '09Zuber05-120.m', 4, 3)\n",
      "(66, 'f84d8e9543d8dfbf23afe0af203025f0', 8750, 'Denmark', '09Sekino12-300.', 2, 2)\n"
     ]
    }
   ],
   "source": [
    "for x in mycursor:\n",
    "    print(x)"
   ]
  },
  {
   "cell_type": "code",
   "execution_count": null,
   "metadata": {},
   "outputs": [],
   "source": []
  }
 ],
 "metadata": {
  "kernelspec": {
   "display_name": "Python 3",
   "language": "python",
   "name": "python3"
  },
  "language_info": {
   "codemirror_mode": {
    "name": "ipython",
    "version": 3
   },
   "file_extension": ".py",
   "mimetype": "text/x-python",
   "name": "python",
   "nbconvert_exporter": "python",
   "pygments_lexer": "ipython3",
   "version": "3.7.4"
  }
 },
 "nbformat": 4,
 "nbformat_minor": 2
}
