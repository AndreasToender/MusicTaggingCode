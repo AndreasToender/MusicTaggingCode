{
 "cells": [
  {
   "cell_type": "code",
   "execution_count": 19,
   "metadata": {},
   "outputs": [],
   "source": [
    "#https://stackoverflow.com/questions/53521531/comparing-two-numpy-2d-arrays-for-similarity\n",
    "#https://towardsdatascience.com/the-art-of-effective-visualization-of-multi-dimensional-data-6c7202990c57\n",
    "#https://www.earthdatascience.org/courses/earth-analytics-bootcamp/numpy-arrays/manipulate-summarize-plot-numpy-arrays/"
   ]
  },
  {
   "cell_type": "code",
   "execution_count": 20,
   "metadata": {},
   "outputs": [],
   "source": [
    "import os\n",
    "import pretty_midi\n",
    "import numpy as np\n",
    "import math"
   ]
  },
  {
   "cell_type": "code",
   "execution_count": 21,
   "metadata": {},
   "outputs": [],
   "source": [
    "from Utils import getDataSets"
   ]
  },
  {
   "cell_type": "code",
   "execution_count": 22,
   "metadata": {},
   "outputs": [],
   "source": [
    "workdir = \"C:\\\\Users\\\\toend\\\\Documents\\\\ITU\\\\Thesis\""
   ]
  },
  {
   "cell_type": "code",
   "execution_count": 23,
   "metadata": {},
   "outputs": [],
   "source": [
    "X1, X2, X3, X4 = getDataSets(workdir)"
   ]
  },
  {
   "cell_type": "code",
   "execution_count": 25,
   "metadata": {},
   "outputs": [],
   "source": [
    "#PRIMARILY USED TO CHECK POSITION-WISE EQUALITY \n",
    "#(what nodes are played when, ie. overall structure but mostly amount of nodes played)\n",
    "def equalityCheck(A, B):\n",
    "    number_of_equal_elements = np.sum(A==B)\n",
    "    total_elements = np.multiply(*A.shape)\n",
    "    percentage = number_of_equal_elements/total_elements\n",
    "    return percentage"
   ]
  },
  {
   "cell_type": "code",
   "execution_count": 26,
   "metadata": {},
   "outputs": [],
   "source": [
    "#USED TO CHECK THE DIFFERENCE IN THE NODES BEING PLAYED \n",
    "#(could tell something about difference in mood?)\n",
    "def euclideanDistance(A, B):\n",
    "    dist = np.linalg.norm(A-B)\n",
    "    return dist"
   ]
  },
  {
   "cell_type": "code",
   "execution_count": 27,
   "metadata": {},
   "outputs": [],
   "source": [
    "def matchClosest(X1, X2):\n",
    "    X = np.zeros((1, 3000, 128))\n",
    "    Y = np.zeros((1, 3000, 128))\n",
    "    X1length = X1.shape[0]\n",
    "    for i in range(X1length):\n",
    "        X2length = X2.shape[0]\n",
    "        #maxDistance = 0\n",
    "        maxScore = 0\n",
    "        index = 0\n",
    "        for k in range(X2length):\n",
    "            #euclideanDistance = euclideanDistance(X1[i], X2[k])\n",
    "            equalityScore = equalityCheck(X1[i], X2[k])\n",
    "            if equalityScore == 1:\n",
    "                pass\n",
    "            elif equalityScore > maxScore:\n",
    "                maxScore = equalityScore\n",
    "                index = k\n",
    "        toMatch = X1[i]       \n",
    "        toMatch = np.expand_dims(toMatch, axis=0)\n",
    "        X = np.append(X, toMatch, axis=0)\n",
    "        match = X2[index]\n",
    "        match = np.expand_dims(match, axis=0)\n",
    "        Y = np.append(Y, match, axis=0)\n",
    "        X2 = np.delete(X2, index, 0)\n",
    "    X = np.delete(X, 0, 0)\n",
    "    Y = np.delete(Y, 0, 0)\n",
    "    Z = list(zip(X, Y))  \n",
    "    return Z"
   ]
  },
  {
   "cell_type": "code",
   "execution_count": 28,
   "metadata": {},
   "outputs": [],
   "source": [
    "def matchFurthest(X1, X2):\n",
    "    X = np.zeros((1, 3000, 128))\n",
    "    Y = np.zeros((1, 3000, 128))\n",
    "    X1length = X1.shape[0]\n",
    "    for i in range(X1length):\n",
    "        X2length = X2.shape[0]\n",
    "        #maxDistance = 1000\n",
    "        maxScore = 1\n",
    "        index = 0\n",
    "        for k in range(X2length):\n",
    "            #euclideanDistance = euclideanDistance(X1[i], X2[k])\n",
    "            equalityScore = equalityCheck(X1[i], X2[k])\n",
    "            if equalityScore < maxScore:\n",
    "                maxScore = equalityScore\n",
    "                index = k\n",
    "        toMatch = X1[i]       \n",
    "        toMatch = np.expand_dims(toMatch, axis=0)\n",
    "        X = np.append(X, toMatch, axis=0)\n",
    "        match = X2[index]\n",
    "        match = np.expand_dims(match, axis=0)\n",
    "        Y = np.append(Y, match, axis=0)\n",
    "        X2 = np.delete(X2, index, 0)\n",
    "    X = np.delete(X, 0, 0)\n",
    "    Y = np.delete(Y, 0, 0)\n",
    "    Z = list(zip(X, Y))  \n",
    "    return Z"
   ]
  },
  {
   "cell_type": "code",
   "execution_count": 33,
   "metadata": {},
   "outputs": [],
   "source": [
    "def getMatchedRolls(X, Y):\n",
    "    #Z = matchFurthest(X1, X2)\n",
    "    Z = matchClosest(X1, X2)\n",
    "    return list(zip(*Z))"
   ]
  },
  {
   "cell_type": "code",
   "execution_count": null,
   "metadata": {},
   "outputs": [],
   "source": []
  }
 ],
 "metadata": {
  "kernelspec": {
   "display_name": "Python 3",
   "language": "python",
   "name": "python3"
  },
  "language_info": {
   "codemirror_mode": {
    "name": "ipython",
    "version": 3
   },
   "file_extension": ".py",
   "mimetype": "text/x-python",
   "name": "python",
   "nbconvert_exporter": "python",
   "pygments_lexer": "ipython3",
   "version": "3.7.4"
  }
 },
 "nbformat": 4,
 "nbformat_minor": 2
}
