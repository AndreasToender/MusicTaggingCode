{
 "cells": [
  {
   "cell_type": "code",
   "execution_count": 23,
   "metadata": {},
   "outputs": [],
   "source": [
    "import pretty_midi\n",
    "import argparse\n",
    "import librosa\n",
    "import os\n",
    "import sys\n",
    "import math\n",
    "import random\n",
    "import numpy as np"
   ]
  },
  {
   "cell_type": "code",
   "execution_count": 24,
   "metadata": {},
   "outputs": [],
   "source": [
    "workdir = \"C:\\\\Users\\\\toend\\\\Documents\\\\ITU\\\\Thesis\"\n",
    "frequency = 100"
   ]
  },
  {
   "cell_type": "code",
   "execution_count": 25,
   "metadata": {},
   "outputs": [],
   "source": [
    "def reshape(piano_roll):\n",
    "    h, w = piano_roll.shape\n",
    "    slices = []\n",
    "    for i in range(w):\n",
    "        columnSlice = piano_roll[:,i]\n",
    "        columnSlice = np.asarray(columnSlice)\n",
    "        slices.append(columnSlice)\n",
    "    return np.asarray(slices)"
   ]
  },
  {
   "cell_type": "code",
   "execution_count": 26,
   "metadata": {},
   "outputs": [],
   "source": [
    "def createPianoRoll(piano):\n",
    "    endTime = math.ceil(piano.get_end_time())\n",
    "    #print(endTime)\n",
    "    notes = piano.notes\n",
    "    #adding a pad to avoid index out of bounds\n",
    "    width = (endTime*frequency)\n",
    "    piano_roll = np.zeros((128, width))\n",
    "    for note in notes:\n",
    "        pitch = note.pitch\n",
    "        #NORMALIZING\n",
    "        velocity = note.velocity/100\n",
    "        start = int(round(note.start * frequency))\n",
    "        end = int(round(note.end * frequency))\n",
    "        for i in range(start-1, end):\n",
    "            piano_roll[pitch][i] = velocity\n",
    "    return piano_roll"
   ]
  },
  {
   "cell_type": "code",
   "execution_count": 27,
   "metadata": {},
   "outputs": [],
   "source": [
    "def loadData(path):\n",
    "    song = []\n",
    "    with os.scandir(path) as entries:\n",
    "        for entry in entries:\n",
    "            if entry.is_file() and not \".ini\" in entry.name:\n",
    "                filename = entry.name\n",
    "                #print(filename)\n",
    "                midi_file = entry.path\n",
    "                pm = pretty_midi.PrettyMIDI(midi_file)\n",
    "                piano = pm.instruments[0]\n",
    "                piano_roll = createPianoRoll(piano)\n",
    "                piano_roll = reshape(piano_roll)\n",
    "                song.append(piano_roll)\n",
    "    return np.array(song)"
   ]
  },
  {
   "cell_type": "code",
   "execution_count": 28,
   "metadata": {},
   "outputs": [],
   "source": [
    "def padPianoRollToCorrectShape(pianoRoll):\n",
    "    result = np.zeros((3000,128))\n",
    "    result[:pianoRoll.shape[0],:pianoRoll.shape[1]] = pianoRoll\n",
    "    return result"
   ]
  },
  {
   "cell_type": "code",
   "execution_count": 29,
   "metadata": {},
   "outputs": [],
   "source": [
    "def getDataSets():\n",
    "    subFolders = [\"MIDIdata\\\\TRAINING\\\\ArousedNegative\", \"MIDIdata\\\\TRAINING\\\\ArousedPositive\", \n",
    "                  \"MIDIdata\\\\TRAINING\\\\CalmNegative\", \"MIDIdata\\\\TRAINING\\\\CalmPositive\"]\n",
    "    \n",
    "    for subFolder in subFolders:\n",
    "        path = os.path.join(workdir, subFolder)\n",
    "        X = loadData(path)\n",
    "        Y = []\n",
    "        for pianoRoll in X:\n",
    "            pianoRoll = padPianoRollToCorrectShape(pianoRoll)\n",
    "            #pianoRoll = padPianoRollWithStartAndEndSymbols(pianoRoll)\n",
    "            Y.append(pianoRoll)\n",
    "        yield np.array(Y)"
   ]
  },
  {
   "cell_type": "code",
   "execution_count": null,
   "metadata": {},
   "outputs": [],
   "source": [
    "def compressPianoRoll(pianoRoll):\n",
    "    compressedRoll = np.empty((1, pianoRoll.shape[1]))\n",
    "    for i in range(0, len(pianoRoll), 2):\n",
    "        compressedRoll = np.vstack([compressedRoll, pianoRoll[i]])\n",
    "    return np.delete(compressedRoll, 0, axis=0)"
   ]
  },
  {
   "cell_type": "code",
   "execution_count": 10,
   "metadata": {},
   "outputs": [],
   "source": [
    "def compressDataSet(X):\n",
    "    compressedSet = np.empty((1, 1500, X.shape[2]))\n",
    "    for i in range(len(X)):\n",
    "        piece = compressPianoRoll(X[i])\n",
    "        piece = np.reshape(piece, (1, 1500, 128))\n",
    "        compressedSet = np.append(compressedSet, piece, axis=0)\n",
    "    return np.delete(compressedSet, 0, axis=0)"
   ]
  },
  {
   "cell_type": "code",
   "execution_count": 16,
   "metadata": {},
   "outputs": [],
   "source": [
    "def matchOneToMany(X, Y):\n",
    "    matchedX = np.empty((1, X.shape[1], X.shape[2]))\n",
    "    matchedY = np.empty((1, Y.shape[1], Y.shape[2]))\n",
    "    for i in range(len(X)):\n",
    "        Xroll = X[i]\n",
    "        Xroll = np.reshape(Xroll, (1, X.shape[1], 128))\n",
    "        for k in range(len(Y)):\n",
    "            Yroll = Y[k]\n",
    "            Yroll = np.reshape(Yroll, (1, Y.shape[1], 128))\n",
    "            matchedX = np.append(matchedX, Xroll, axis=0)\n",
    "            matchedY = np.append(matchedY, Yroll, axis=0)\n",
    "    matchedX = np.delete(matchedX, 0, axis=0)\n",
    "    matchedY = np.delete(matchedY, 0, axis=0)\n",
    "    Z = list(zip(matchedX, matchedY))\n",
    "    return Z"
   ]
  },
  {
   "cell_type": "code",
   "execution_count": null,
   "metadata": {},
   "outputs": [],
   "source": [
    "#PRIMARILY USED TO CHECK POSITION-WISE EQUALITY \n",
    "#(what nodes are played when, ie. overall structure but mostly amount of nodes played)\n",
    "def equalityCheck(A, B):\n",
    "    number_of_equal_elements = np.sum(A==B)\n",
    "    total_elements = np.multiply(*A.shape)\n",
    "    percentage = number_of_equal_elements/total_elements\n",
    "    return percentage"
   ]
  },
  {
   "cell_type": "code",
   "execution_count": 26,
   "metadata": {},
   "outputs": [],
   "source": [
    "#USED TO CHECK THE DIFFERENCE IN THE NODES BEING PLAYED \n",
    "#(could tell something about difference in mood?)\n",
    "def euclideanDistance(A, B):\n",
    "    dist = np.linalg.norm(A-B)\n",
    "    return dist"
   ]
  },
  {
   "cell_type": "code",
   "execution_count": 27,
   "metadata": {},
   "outputs": [],
   "source": [
    "def matchClosestOneToOne(X1, X2):\n",
    "    X = np.zeros((1, 3000, 128))\n",
    "    Y = np.zeros((1, 3000, 128))\n",
    "    X1length = X1.shape[0]\n",
    "    for i in range(X1length):\n",
    "        X2length = X2.shape[0]\n",
    "        #maxDistance = 0\n",
    "        maxScore = 0\n",
    "        index = 0\n",
    "        for k in range(X2length):\n",
    "            #euclideanDistance = euclideanDistance(X1[i], X2[k])\n",
    "            equalityScore = equalityCheck(X1[i], X2[k])\n",
    "            if equalityScore == 1:\n",
    "                pass\n",
    "            elif equalityScore > maxScore:\n",
    "                maxScore = equalityScore\n",
    "                index = k\n",
    "        toMatch = X1[i]       \n",
    "        toMatch = np.expand_dims(toMatch, axis=0)\n",
    "        X = np.append(X, toMatch, axis=0)\n",
    "        match = X2[index]\n",
    "        match = np.expand_dims(match, axis=0)\n",
    "        Y = np.append(Y, match, axis=0)\n",
    "        X2 = np.delete(X2, index, 0)\n",
    "    X = np.delete(X, 0, 0)\n",
    "    Y = np.delete(Y, 0, 0)\n",
    "    Z = list(zip(X, Y))  \n",
    "    return Z"
   ]
  },
  {
   "cell_type": "code",
   "execution_count": 28,
   "metadata": {},
   "outputs": [],
   "source": [
    "def matchFurthestOneToOne(X1, X2):\n",
    "    X = np.zeros((1, 3000, 128))\n",
    "    Y = np.zeros((1, 3000, 128))\n",
    "    X1length = X1.shape[0]\n",
    "    for i in range(X1length):\n",
    "        X2length = X2.shape[0]\n",
    "        #maxDistance = 1000\n",
    "        maxScore = 1\n",
    "        index = 0\n",
    "        for k in range(X2length):\n",
    "            #euclideanDistance = euclideanDistance(X1[i], X2[k])\n",
    "            equalityScore = equalityCheck(X1[i], X2[k])\n",
    "            if equalityScore < maxScore:\n",
    "                maxScore = equalityScore\n",
    "                index = k\n",
    "        toMatch = X1[i]       \n",
    "        toMatch = np.expand_dims(toMatch, axis=0)\n",
    "        X = np.append(X, toMatch, axis=0)\n",
    "        match = X2[index]\n",
    "        match = np.expand_dims(match, axis=0)\n",
    "        Y = np.append(Y, match, axis=0)\n",
    "        X2 = np.delete(X2, index, 0)\n",
    "    X = np.delete(X, 0, 0)\n",
    "    Y = np.delete(Y, 0, 0)\n",
    "    Z = list(zip(X, Y))  \n",
    "    return Z"
   ]
  },
  {
   "cell_type": "code",
   "execution_count": 50,
   "metadata": {},
   "outputs": [],
   "source": [
    "def matchOneToAnyNumberOfMatches(LongestArray, ShortestArray, NumberOfMatches):\n",
    "    lengthOfLongest = len(LongestArray)\n",
    "    lengthOfShortest = len(ShortestArray)\n",
    "    matchedX = np.empty((lengthOfLongest*NumberOfMatches, LongestArray.shape[1], LongestArray.shape[2]))\n",
    "    matchedY = np.empty((lengthOfLongest*NumberOfMatches, ShortestArray.shape[1], ShortestArray.shape[2]))\n",
    "    for i in range(lengthOfLongest):\n",
    "        Xroll = LongestArray[i]\n",
    "        mapper = {}\n",
    "        for k in range(lengthOfShortest):\n",
    "            Yroll = np.array(ShortestArray[k])\n",
    "            equality = equalityCheck(Xroll, Yroll)\n",
    "            if(equality != 1):\n",
    "                mapper[k] = equality\n",
    "            \n",
    "        sortedMap = {k: v for k, v in sorted(mapper.items(), key=lambda item: item[1])}\n",
    "        closestRolls = []        \n",
    "        for index in sortedMap:\n",
    "            if(len(closestRolls) == NumberOfMatches):\n",
    "                break\n",
    "            closestRolls.append(ShortestArray[index])\n",
    "            \n",
    "        for p in range(NumberOfMatches):\n",
    "            index = i*NumberOfMatches + p                \n",
    "            matchedX[index] = Xroll\n",
    "            matchedY[index] = closestRolls[p]\n",
    "             \n",
    "    Z = list(zip(matchedX, matchedY))\n",
    "    return Z"
   ]
  },
  {
   "cell_type": "code",
   "execution_count": null,
   "metadata": {},
   "outputs": [],
   "source": []
  },
  {
   "cell_type": "code",
   "execution_count": 24,
   "metadata": {},
   "outputs": [],
   "source": [
    "def piano_roll_to_pretty_midi(piano_roll, fs=100, program=0):\n",
    "    '''Convert a Piano Roll array into a PrettyMidi object\n",
    "     with a single instrument.\n",
    "    Parameters\n",
    "    ----------\n",
    "    piano_roll : np.ndarray, shape=(128,frames), dtype=int\n",
    "        Piano roll of one instrument\n",
    "    fs : int\n",
    "        Sampling frequency of the columns, i.e. each column is spaced apart\n",
    "        by ``1./fs`` seconds.\n",
    "    program : int\n",
    "        The program number of the instrument.\n",
    "    Returns\n",
    "    -------\n",
    "    midi_object : pretty_midi.PrettyMIDI\n",
    "        A pretty_midi.PrettyMIDI class instance describing\n",
    "        the piano roll.\n",
    "    '''\n",
    "    notes, frames = piano_roll.shape\n",
    "    pm = pretty_midi.PrettyMIDI()\n",
    "    instrument = pretty_midi.Instrument(program=program)\n",
    "\n",
    "    # pad 1 column of zeros so we can acknowledge inital and ending events\n",
    "    piano_roll = np.pad(piano_roll, [(0, 0), (1, 1)], 'constant')\n",
    "\n",
    "    # use changes in velocities to find note on / note off events\n",
    "    velocity_changes = np.nonzero(np.diff(piano_roll).T)\n",
    "\n",
    "    # keep track on velocities and note on times\n",
    "    prev_velocities = np.zeros(notes, dtype=int)\n",
    "    note_on_time = np.zeros(notes)\n",
    "\n",
    "    for time, note in zip(*velocity_changes):\n",
    "        # use time + 1 because of padding above\n",
    "        velocity = piano_roll[note, time + 1]\n",
    "        time = time / fs\n",
    "        if velocity > 0:\n",
    "            if prev_velocities[note] == 0:\n",
    "                note_on_time[note] = time\n",
    "                prev_velocities[note] = velocity\n",
    "        else:\n",
    "            pm_note = pretty_midi.Note(\n",
    "                velocity=prev_velocities[note],\n",
    "                pitch=note,\n",
    "                start=note_on_time[note],\n",
    "                end=time)\n",
    "            instrument.notes.append(pm_note)\n",
    "            prev_velocities[note] = 0\n",
    "    pm.instruments.append(instrument)\n",
    "    return pm"
   ]
  }
 ],
 "metadata": {
  "kernelspec": {
   "display_name": "Python 3",
   "language": "python",
   "name": "python3"
  },
  "language_info": {
   "codemirror_mode": {
    "name": "ipython",
    "version": 3
   },
   "file_extension": ".py",
   "mimetype": "text/x-python",
   "name": "python",
   "nbconvert_exporter": "python",
   "pygments_lexer": "ipython3",
   "version": "3.7.4"
  }
 },
 "nbformat": 4,
 "nbformat_minor": 2
}
