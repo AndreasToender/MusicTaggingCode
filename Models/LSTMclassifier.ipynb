{
 "cells": [
  {
   "cell_type": "code",
   "execution_count": 1,
   "metadata": {},
   "outputs": [],
   "source": [
    "#EXAMPLES\n",
    "#https://machinelearningmastery.com/sequence-classification-lstm-recurrent-neural-networks-python-keras/\n",
    "#https://towardsdatascience.com/multi-class-text-classification-with-lstm-using-tensorflow-2-0-d88627c10a35\n",
    "#https://towardsdatascience.com/language-translation-with-rnns-d84d43b40571\n",
    "#https://machinelearningmastery.com/how-to-develop-lstm-models-for-time-series-forecasting/\n",
    "\n",
    "#FOR BUILDING THE MODEL\n",
    "#https://www.youtube.com/watch?v=vPrSca-YjFg\n",
    "\n",
    "#FOR LABELLING\n",
    "#https://www.pyimagesearch.com/2018/05/07/multi-label-classification-with-keras/\n",
    "#https://docs.scipy.org/doc/numpy/reference/generated/numpy.expand_dims.html"
   ]
  },
  {
   "cell_type": "code",
   "execution_count": 2,
   "metadata": {},
   "outputs": [],
   "source": [
    "import os\n",
    "import pretty_midi\n",
    "import numpy as np\n",
    "import math\n",
    "import random\n",
    "import matplotlib.pyplot as plt\n",
    "import sys"
   ]
  },
  {
   "cell_type": "code",
   "execution_count": 4,
   "metadata": {},
   "outputs": [
    {
     "name": "stderr",
     "output_type": "stream",
     "text": [
      "Using TensorFlow backend.\n"
     ]
    }
   ],
   "source": [
    "from keras.datasets import imdb\n",
    "from keras.models import Sequential\n",
    "from keras.layers import Dense\n",
    "from keras.layers import LSTM\n",
    "from keras.layers import Bidirectional\n",
    "from keras.layers.embeddings import Embedding\n",
    "from keras.preprocessing import sequence\n",
    "# fix random seed for reproducibility\n",
    "np.random.seed(7)"
   ]
  },
  {
   "cell_type": "code",
   "execution_count": 5,
   "metadata": {},
   "outputs": [],
   "source": [
    "workdir = \"C:\\\\Users\\\\toend\\\\Documents\\\\ITU\\\\Thesis\"\n",
    "sys.path.append(workdir + '\\\\Code\\\\Utils')\n",
    "from Utils import getDataSets"
   ]
  },
  {
   "cell_type": "code",
   "execution_count": 6,
   "metadata": {},
   "outputs": [],
   "source": [
    "X1, X2, X3, X4 = getDataSets(workdir)\n",
    "X = np.concatenate((X1, X2, X3, X4))"
   ]
  },
  {
   "cell_type": "code",
   "execution_count": 7,
   "metadata": {},
   "outputs": [
    {
     "name": "stdout",
     "output_type": "stream",
     "text": [
      "(510, 4)\n"
     ]
    }
   ],
   "source": [
    "Y1 = np.zeros((len(X1), 4))\n",
    "Y2 = np.zeros((len(X2), 4))\n",
    "Y3 = np.zeros((len(X3), 4))\n",
    "Y4 = np.zeros((len(X4), 4))\n",
    "\n",
    "for i in range(0, len(Y1)):\n",
    "    Y1[i] = [1, 0, 0, 0]\n",
    "    \n",
    "for i in range(0, len(Y2)):\n",
    "    Y2[i] = [0, 1, 0, 0]\n",
    "    \n",
    "for i in range(0, len(Y3)):\n",
    "    Y3[i] = [0, 0, 1, 0]\n",
    "    \n",
    "for i in range(0, len(Y4)):\n",
    "    Y4[i] = [0, 0, 0, 1]\n",
    "\n",
    "Y = np.concatenate((Y1, Y2, Y3, Y4))\n",
    "print(Y.shape)"
   ]
  },
  {
   "cell_type": "code",
   "execution_count": 8,
   "metadata": {},
   "outputs": [
    {
     "name": "stdout",
     "output_type": "stream",
     "text": [
      "(510, 3000, 128)\n",
      "(510, 4)\n"
     ]
    }
   ],
   "source": [
    "Z = list(zip(X, Y))\n",
    "\n",
    "random.shuffle(Z)\n",
    "\n",
    "X, Y = zip(*Z)\n",
    "\n",
    "print(np.array(X).shape)\n",
    "print(np.array(Y).shape)"
   ]
  },
  {
   "cell_type": "code",
   "execution_count": 9,
   "metadata": {},
   "outputs": [
    {
     "name": "stdout",
     "output_type": "stream",
     "text": [
      "(10, 3000, 128)\n",
      "(10, 4)\n",
      "(500, 3000, 128)\n",
      "(500, 4)\n"
     ]
    }
   ],
   "source": [
    "validationX = X[500:]\n",
    "validationY = Y[500:]\n",
    "\n",
    "print(np.array(validationX).shape)\n",
    "print(np.array(validationY).shape)\n",
    "\n",
    "X = X[:500]\n",
    "Y = Y[:500]\n",
    "\n",
    "print(np.array(X).shape)\n",
    "print(np.array(Y).shape)"
   ]
  },
  {
   "cell_type": "code",
   "execution_count": 10,
   "metadata": {},
   "outputs": [
    {
     "name": "stdout",
     "output_type": "stream",
     "text": [
      "(400, 3000, 128)\n",
      "(100, 3000, 128)\n",
      "(400, 4)\n",
      "(100, 4)\n"
     ]
    }
   ],
   "source": [
    "XhalfingPoint = int(len(X)/100*80)\n",
    "\n",
    "X_train = np.array(X[:XhalfingPoint])\n",
    "print(X_train.shape)\n",
    "X_test = np.array(X[XhalfingPoint:])\n",
    "print(X_test.shape)\n",
    "\n",
    "YhalfingPoint = int(len(Y)/100*80)\n",
    "\n",
    "y_train = np.array(Y[:YhalfingPoint])\n",
    "print(y_train.shape)\n",
    "y_test = np.array(Y[YhalfingPoint:])\n",
    "print(y_test.shape)"
   ]
  },
  {
   "cell_type": "code",
   "execution_count": 12,
   "metadata": {
    "scrolled": true
   },
   "outputs": [
    {
     "name": "stdout",
     "output_type": "stream",
     "text": [
      "Model: \"sequential_2\"\n",
      "_________________________________________________________________\n",
      "Layer (type)                 Output Shape              Param #   \n",
      "=================================================================\n",
      "lstm_2 (LSTM)                (None, 128)               131584    \n",
      "_________________________________________________________________\n",
      "dense_2 (Dense)              (None, 4)                 516       \n",
      "=================================================================\n",
      "Total params: 132,100\n",
      "Trainable params: 132,100\n",
      "Non-trainable params: 0\n",
      "_________________________________________________________________\n",
      "None\n",
      "Train on 400 samples, validate on 100 samples\n",
      "Epoch 1/20\n",
      "400/400 [==============================] - 94s 234ms/step - loss: 0.6875 - accuracy: 0.5962 - val_loss: 0.6595 - val_accuracy: 0.7525\n",
      "Epoch 2/20\n",
      "400/400 [==============================] - 105s 261ms/step - loss: 0.6161 - accuracy: 0.7469 - val_loss: 0.5644 - val_accuracy: 0.7500\n",
      "Epoch 3/20\n",
      "400/400 [==============================] - 116s 289ms/step - loss: 0.5505 - accuracy: 0.7500 - val_loss: 0.5479 - val_accuracy: 0.7500\n",
      "Epoch 4/20\n",
      "400/400 [==============================] - 116s 289ms/step - loss: 0.5463 - accuracy: 0.7500 - val_loss: 0.5417 - val_accuracy: 0.7500\n",
      "Epoch 5/20\n",
      "400/400 [==============================] - 118s 296ms/step - loss: 0.5362 - accuracy: 0.7500 - val_loss: 0.5389 - val_accuracy: 0.7500\n",
      "Epoch 6/20\n",
      "400/400 [==============================] - 123s 307ms/step - loss: 0.5333 - accuracy: 0.7500 - val_loss: 0.5418 - val_accuracy: 0.7500\n",
      "Epoch 7/20\n",
      "400/400 [==============================] - 119s 297ms/step - loss: 0.5266 - accuracy: 0.7513 - val_loss: 0.5649 - val_accuracy: 0.7475\n",
      "Epoch 8/20\n",
      "400/400 [==============================] - 128s 319ms/step - loss: 0.5261 - accuracy: 0.7538 - val_loss: 0.5450 - val_accuracy: 0.7450\n",
      "Epoch 9/20\n",
      "400/400 [==============================] - 124s 311ms/step - loss: 0.5235 - accuracy: 0.7625 - val_loss: 0.5423 - val_accuracy: 0.7450\n",
      "Epoch 10/20\n",
      "400/400 [==============================] - 127s 318ms/step - loss: 0.5090 - accuracy: 0.7556 - val_loss: 0.5712 - val_accuracy: 0.7475\n",
      "Epoch 11/20\n",
      "400/400 [==============================] - 132s 329ms/step - loss: 0.5102 - accuracy: 0.7594 - val_loss: 0.5525 - val_accuracy: 0.7400\n",
      "Epoch 12/20\n",
      "400/400 [==============================] - 134s 336ms/step - loss: 0.5028 - accuracy: 0.7638 - val_loss: 0.5568 - val_accuracy: 0.7400\n",
      "Epoch 13/20\n",
      "400/400 [==============================] - 142s 356ms/step - loss: 0.4909 - accuracy: 0.7606 - val_loss: 0.5588 - val_accuracy: 0.7325\n",
      "Epoch 14/20\n",
      "400/400 [==============================] - 143s 357ms/step - loss: 0.4885 - accuracy: 0.7719 - val_loss: 0.5713 - val_accuracy: 0.7375\n",
      "Epoch 15/20\n",
      "400/400 [==============================] - 139s 348ms/step - loss: 0.4706 - accuracy: 0.7781 - val_loss: 0.5997 - val_accuracy: 0.7200\n",
      "Epoch 16/20\n",
      "400/400 [==============================] - 144s 359ms/step - loss: 0.4683 - accuracy: 0.7763 - val_loss: 0.6020 - val_accuracy: 0.7025\n",
      "Epoch 17/20\n",
      "400/400 [==============================] - 140s 351ms/step - loss: 0.4804 - accuracy: 0.7744 - val_loss: 0.6248 - val_accuracy: 0.7075\n",
      "Epoch 18/20\n",
      "400/400 [==============================] - 154s 386ms/step - loss: 0.4635 - accuracy: 0.7812 - val_loss: 0.6147 - val_accuracy: 0.7175\n",
      "Epoch 19/20\n",
      "400/400 [==============================] - 156s 390ms/step - loss: 0.4496 - accuracy: 0.7981 - val_loss: 0.6403 - val_accuracy: 0.7025\n",
      "Epoch 20/20\n",
      "400/400 [==============================] - 155s 387ms/step - loss: 0.4457 - accuracy: 0.7906 - val_loss: 0.6146 - val_accuracy: 0.6900\n"
     ]
    }
   ],
   "source": [
    "model = Sequential()\n",
    "model.add(LSTM(128, input_shape=X_train.shape[1:]))\n",
    "model.add(Dense(4, activation='sigmoid'))\n",
    "model.compile(loss='binary_crossentropy', optimizer='adam', metrics=['accuracy'])\n",
    "# Save model\n",
    "model.save('LSTMclassifier.h5')\n",
    "print(model.summary())\n",
    "history = model.fit(X_train, y_train, validation_data=(X_test, y_test), epochs=20, batch_size=64)"
   ]
  },
  {
   "cell_type": "code",
   "execution_count": null,
   "metadata": {},
   "outputs": [],
   "source": [
    "# load model\n",
    "model = load_model('LSTMclassifier.h5')\n",
    "# summarize model.\n",
    "model.summary()"
   ]
  },
  {
   "cell_type": "code",
   "execution_count": 40,
   "metadata": {},
   "outputs": [],
   "source": [
    "pred = model.predict(np.array(validationX))"
   ]
  },
  {
   "cell_type": "code",
   "execution_count": 44,
   "metadata": {},
   "outputs": [
    {
     "name": "stdout",
     "output_type": "stream",
     "text": [
      "12/12 [==============================] - 1s 51ms/step\n",
      "Test set\n",
      "  Loss: 1.581\n",
      "  Accuracy: 0.333\n"
     ]
    }
   ],
   "source": [
    "accr = model.evaluate(X_test,y_test)\n",
    "print('Test set\\n  Loss: {:0.3f}\\n  Accuracy: {:0.3f}'.format(accr[0],accr[1]))"
   ]
  },
  {
   "cell_type": "code",
   "execution_count": 52,
   "metadata": {},
   "outputs": [
    {
     "data": {
      "image/png": "[encoded data removed]",
      "text/plain": [
       "<Figure size 432x288 with 1 Axes>"
      ]
     },
     "metadata": {
      "needs_background": "light"
     },
     "output_type": "display_data"
    }
   ],
   "source": [
    "plt.title('Loss')\n",
    "plt.plot(history.history['loss'], label='train')\n",
    "plt.plot(history.history['val_loss'], label='test')\n",
    "plt.legend()\n",
    "plt.show();"
   ]
  },
  {
   "cell_type": "code",
   "execution_count": 50,
   "metadata": {
    "scrolled": false
   },
   "outputs": [
    {
     "data": {
      "image/png": "[encoded data removed]",
      "text/plain": [
       "<Figure size 432x288 with 1 Axes>"
      ]
     },
     "metadata": {
      "needs_background": "light"
     },
     "output_type": "display_data"
    }
   ],
   "source": [
    "plt.title('Accuracy')\n",
    "plt.plot(history.history['accuracy'], label='train')\n",
    "plt.plot(history.history['val_accuracy'], label='test')\n",
    "plt.legend()\n",
    "plt.show();"
   ]
  },
  {
   "cell_type": "code",
   "execution_count": 53,
   "metadata": {},
   "outputs": [
    {
     "name": "stdout",
     "output_type": "stream",
     "text": [
      "[[0.4961242  0.14102183 0.3021725  0.0606814 ]\n",
      " [0.50001395 0.28623566 0.16718067 0.04656972]\n",
      " [0.68692875 0.11382861 0.1617652  0.03747737]\n",
      " [0.3622637  0.4389045  0.13884324 0.05998853]\n",
      " [0.2129954  0.18152215 0.20792924 0.3975533 ]\n",
      " [0.32422587 0.5771092  0.07221302 0.02645185]\n",
      " [0.22010687 0.22638954 0.16837388 0.38512975]]\n"
     ]
    }
   ],
   "source": [
    "print(pred)"
   ]
  },
  {
   "cell_type": "code",
   "execution_count": 42,
   "metadata": {},
   "outputs": [
    {
     "name": "stdout",
     "output_type": "stream",
     "text": [
      "(array([0., 1., 0., 0.]), array([0., 1., 0., 0.]), array([0., 1., 0., 0.]), array([0., 1., 0., 0.]), array([0., 1., 0., 0.]), array([1., 0., 0., 0.]), array([0., 1., 0., 0.]))\n"
     ]
    }
   ],
   "source": [
    "print(validationY)"
   ]
  },
  {
   "cell_type": "code",
   "execution_count": null,
   "metadata": {},
   "outputs": [],
   "source": []
  }
 ],
 "metadata": {
  "kernelspec": {
   "display_name": "Python 3",
   "language": "python",
   "name": "python3"
  },
  "language_info": {
   "codemirror_mode": {
    "name": "ipython",
    "version": 3
   },
   "file_extension": ".py",
   "mimetype": "text/x-python",
   "name": "python",
   "nbconvert_exporter": "python",
   "pygments_lexer": "ipython3",
   "version": "3.7.4"
  }
 },
 "nbformat": 4,
 "nbformat_minor": 2
}
