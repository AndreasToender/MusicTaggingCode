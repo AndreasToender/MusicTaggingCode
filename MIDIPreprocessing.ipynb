{
 "cells": [
  {
   "cell_type": "code",
   "execution_count": 1,
   "metadata": {},
   "outputs": [],
   "source": [
    "import os\n",
    "import pretty_midi\n",
    "import joblib\n",
    "import glob\n",
    "import numpy as np\n",
    "from nltk import word_tokenize, sent_tokenize"
   ]
  },
  {
   "cell_type": "code",
   "execution_count": 2,
   "metadata": {},
   "outputs": [],
   "source": [
    "current_data = os.path.join(os.getcwd(), \"Data\", \"Classical_Piano\")\n",
    "max_seq_length = 100 #Update this --> re-run it all"
   ]
  },
  {
   "cell_type": "markdown",
   "metadata": {},
   "source": [
    "Generating the data"
   ]
  },
  {
   "cell_type": "code",
   "execution_count": 3,
   "metadata": {},
   "outputs": [],
   "source": [
    "def slice_piano_roll(piano_roll):\n",
    "    h, w = piano_roll.shape\n",
    "    #Need to slice the piano_roll such that we have an array for each timestep\n",
    "    split = []\n",
    "    for i in range(w):\n",
    "        column = [row[i] for row in piano_roll]\n",
    "        #Need to convert all the timestamps (f.ex. 47) to just values of 1 to not confuse the network\n",
    "        column = np.asarray(column)\n",
    "        column = np.where(column==0, column, 1)\n",
    "        #Adding to the new array\n",
    "        split = np.concatenate((split, np.asarray(column)))\n",
    "    return np.array_split(split, w)"
   ]
  },
  {
   "cell_type": "code",
   "execution_count": 4,
   "metadata": {},
   "outputs": [],
   "source": [
    "def reshape(piano_roll):\n",
    "    return np.reshape(piano_roll, (len(piano_roll), 128, 1))"
   ]
  },
  {
   "cell_type": "code",
   "execution_count": 5,
   "metadata": {},
   "outputs": [],
   "source": [
    "def compute_pianoRoll(midi_file):\n",
    "    try:\n",
    "        midi = pretty_midi.PrettyMIDI(midi_file)\n",
    "        piano_midi = midi.instruments[0]\n",
    "        #Splitting each track up into 0.2sec \"windows\"\n",
    "        piano_roll = piano_midi.get_piano_roll(fs=5)\n",
    "        return slice_piano_roll(piano_roll)\n",
    "        #return reshape(slice_piano_roll(piano_roll))\n",
    "    except Exception as e:\n",
    "        print(e)"
   ]
  },
  {
   "cell_type": "code",
   "execution_count": 6,
   "metadata": {},
   "outputs": [],
   "source": [
    "def generate_sliced_pianoRolls():\n",
    "    piano_rolls = joblib.Parallel(n_jobs=10, verbose=1)(joblib.delayed(compute_pianoRoll)(midi_file)\n",
    "                                                   for midi_file in glob.glob(os.path.join(current_data, '*', '*.MID')))\n",
    "    piano_rolls = [s for s in piano_rolls if s is not None]\n",
    "    return piano_rolls"
   ]
  },
  {
   "cell_type": "code",
   "execution_count": 7,
   "metadata": {},
   "outputs": [],
   "source": [
    "def get_chunks_and_slices(piano, n, dataX, dataY):\n",
    "    #Yield successive n-sized chunks of timesteps from piano_roll for input.\n",
    "    #(Where n is max_sequence_length)\n",
    "    #and single timesteps for output targets\n",
    "    for track in piano:\n",
    "        #Trimming the empty arrays in the beginning of the sequence\n",
    "        startOfSequence = False\n",
    "        for i in range(0, len(track) - n):\n",
    "            if np.any(track[i]):\n",
    "                startOfSequence = True\n",
    "            if startOfSequence:\n",
    "                chunk = track[i:i + n]\n",
    "                #just making completly sure that it has the right length\n",
    "                x = chunk + [0]*(n - len(chunk))\n",
    "                y = track[i + n]\n",
    "                dataX.append(x)\n",
    "                dataY.append(y)\n",
    "                "
   ]
  },
  {
   "cell_type": "code",
   "execution_count": 8,
   "metadata": {},
   "outputs": [],
   "source": [
    "def generate_data(dataX, dataY):\n",
    "    data = generate_sliced_pianoRolls()\n",
    "    get_chunks_and_slices(data, max_seq_length, dataX, dataY)\n",
    "    #dataX = fit_data_to_model(dataX, 128, max_seq_length)   "
   ]
  },
  {
   "cell_type": "code",
   "execution_count": 11,
   "metadata": {},
   "outputs": [],
   "source": [
    "def get_seq_length():\n",
    "    return max_seq_length"
   ]
  }
 ],
 "metadata": {
  "kernelspec": {
   "display_name": "Python 3",
   "language": "python",
   "name": "python3"
  },
  "language_info": {
   "codemirror_mode": {
    "name": "ipython",
    "version": 3
   },
   "file_extension": ".py",
   "mimetype": "text/x-python",
   "name": "python",
   "nbconvert_exporter": "python",
   "pygments_lexer": "ipython3",
   "version": "3.6.4"
  }
 },
 "nbformat": 4,
 "nbformat_minor": 2
}
